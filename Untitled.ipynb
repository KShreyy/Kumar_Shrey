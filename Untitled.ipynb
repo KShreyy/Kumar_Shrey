{
 "cells": [
  {
   "cell_type": "code",
   "execution_count": 1,
   "id": "be9237f2-4d8f-437b-a19d-34314eb4f34a",
   "metadata": {},
   "outputs": [
    {
     "name": "stderr",
     "output_type": "stream",
     "text": [
      "[nltk_data] Downloading package stopwords to\n",
      "[nltk_data]     C:\\Users\\shrey\\AppData\\Roaming\\nltk_data...\n",
      "[nltk_data]   Package stopwords is already up-to-date!\n",
      "[nltk_data] Downloading package wordnet to\n",
      "[nltk_data]     C:\\Users\\shrey\\AppData\\Roaming\\nltk_data...\n",
      "[nltk_data]   Package wordnet is already up-to-date!\n"
     ]
    }
   ],
   "source": [
    "# Import necessary libraries\n",
    "import pandas as pd\n",
    "import numpy as np\n",
    "import matplotlib.pyplot as plt\n",
    "import seaborn as sns\n",
    "\n",
    "from sklearn.feature_extraction.text import TfidfVectorizer\n",
    "from sklearn.model_selection import train_test_split, GridSearchCV, cross_val_score\n",
    "from sklearn.naive_bayes import MultinomialNB\n",
    "from sklearn.svm import SVC\n",
    "from sklearn.metrics import accuracy_score, precision_score, recall_score, f1_score, confusion_matrix\n",
    "\n",
    "import nltk\n",
    "from nltk.corpus import stopwords\n",
    "from nltk.stem import WordNetLemmatizer\n",
    "\n",
    "# Download necessary NLTK data\n",
    "nltk.download('stopwords')\n",
    "nltk.download('wordnet')\n",
    "\n",
    "# Set random seed for reproducibility\n",
    "np.random.seed(42)\n"
   ]
  },
  {
   "cell_type": "code",
   "execution_count": 2,
   "id": "d0d8df16-8cc1-4dab-9778-73ef6558b5a5",
   "metadata": {},
   "outputs": [
    {
     "name": "stdout",
     "output_type": "stream",
     "text": [
      "       textID                                               text  \\\n",
      "0  cb774db0d1                I`d have responded, if I were going   \n",
      "1  549e992a42      Sooo SAD I will miss you here in San Diego!!!   \n",
      "2  088c60f138                          my boss is bullying me...   \n",
      "3  9642c003ef                     what interview! leave me alone   \n",
      "4  358bd9e861   Sons of ****, why couldn`t they put them on t...   \n",
      "\n",
      "                         selected_text sentiment Time of Tweet Age of User  \\\n",
      "0  I`d have responded, if I were going   neutral       morning        0-20   \n",
      "1                             Sooo SAD  negative          noon       21-30   \n",
      "2                          bullying me  negative         night       31-45   \n",
      "3                       leave me alone  negative       morning       46-60   \n",
      "4                        Sons of ****,  negative          noon       60-70   \n",
      "\n",
      "       Country  Population -2020  Land Area (Km²)  Density (P/Km²)  \n",
      "0  Afghanistan          38928346         652860.0               60  \n",
      "1      Albania           2877797          27400.0              105  \n",
      "2      Algeria          43851044        2381740.0               18  \n",
      "3      Andorra             77265            470.0              164  \n",
      "4       Angola          32866272        1246700.0               26  \n",
      "<class 'pandas.core.frame.DataFrame'>\n",
      "RangeIndex: 27481 entries, 0 to 27480\n",
      "Data columns (total 10 columns):\n",
      " #   Column            Non-Null Count  Dtype  \n",
      "---  ------            --------------  -----  \n",
      " 0   textID            27481 non-null  object \n",
      " 1   text              27480 non-null  object \n",
      " 2   selected_text     27480 non-null  object \n",
      " 3   sentiment         27481 non-null  object \n",
      " 4   Time of Tweet     27481 non-null  object \n",
      " 5   Age of User       27481 non-null  object \n",
      " 6   Country           27481 non-null  object \n",
      " 7   Population -2020  27481 non-null  int64  \n",
      " 8   Land Area (Km²)   27481 non-null  float64\n",
      " 9   Density (P/Km²)   27481 non-null  int64  \n",
      "dtypes: float64(1), int64(2), object(7)\n",
      "memory usage: 2.1+ MB\n",
      "None\n",
      "sentiment\n",
      "neutral     11118\n",
      "positive     8582\n",
      "negative     7781\n",
      "Name: count, dtype: int64\n",
      "       Population -2020  Land Area (Km²)  Density (P/Km²)\n",
      "count      2.748100e+04     2.748100e+04     27481.000000\n",
      "mean       4.018497e+07     6.621730e+05       357.686583\n",
      "std        1.504946e+08     1.807425e+06      2013.750702\n",
      "min        8.010000e+02     0.000000e+00         2.000000\n",
      "25%        1.968001e+06     2.281000e+04        35.000000\n",
      "50%        8.655535e+06     1.118900e+05        89.000000\n",
      "75%        2.843594e+07     5.279700e+05       214.000000\n",
      "max        1.439324e+09     1.637687e+07     26337.000000\n",
      "textID              0\n",
      "text                1\n",
      "selected_text       1\n",
      "sentiment           0\n",
      "Time of Tweet       0\n",
      "Age of User         0\n",
      "Country             0\n",
      "Population -2020    0\n",
      "Land Area (Km²)     0\n",
      "Density (P/Km²)     0\n",
      "dtype: int64\n"
     ]
    }
   ],
   "source": [
    "## 1. Data Exploration\n",
    "# Load the dataset\n",
    "data = pd.read_csv('train.csv')\n",
    "\n",
    "# Explore the dataset\n",
    "print(data.head())\n",
    "print(data.info())\n",
    "print(data['sentiment'].value_counts())\n",
    "print(data.describe())\n",
    "\n",
    "# Check for missing values\n",
    "print(data.isnull().sum())\n",
    "\n"
   ]
  },
  {
   "cell_type": "code",
   "execution_count": 3,
   "id": "6f2a7ff2-0b13-4965-9770-4ee83b5383db",
   "metadata": {},
   "outputs": [],
   "source": [
    "## 2. Data Preprocessing\n",
    "# Fill missing text data with empty strings\n",
    "data['text'].fillna('', inplace=True)\n",
    "\n",
    "# Convert text to lowercase\n",
    "data['text'] = data['text'].str.lower()\n",
    "\n",
    "# Remove stop words\n",
    "stop_words = set(stopwords.words('english'))\n",
    "data['text'] = data['text'].apply(lambda x: ' '.join([word for word in x.split() if word not in stop_words]))\n",
    "\n",
    "# Tokenize and lemmatize words\n",
    "lemmatizer = WordNetLemmatizer()\n",
    "data['text'] = data['text'].apply(lambda x: ' '.join([lemmatizer.lemmatize(word) for word in x.split()]))\n",
    "\n"
   ]
  },
  {
   "cell_type": "code",
   "execution_count": 4,
   "id": "f6f274ae-20d8-45dc-9917-c2f1b5a865b0",
   "metadata": {},
   "outputs": [
    {
     "data": {
      "image/png": "[encoded data removed]",
      "text/plain": [
       "<Figure size 800x600 with 1 Axes>"
      ]
     },
     "metadata": {},
     "output_type": "display_data"
    }
   ],
   "source": [
    "## 3. Exploratory Data Analysis (EDA)\n",
    "# Visualize the distribution of sentiment labels\n",
    "plt.figure(figsize=(8, 6))\n",
    "sns.countplot(data=data, x='sentiment')\n",
    "plt.title('Distribution of Sentiment Labels')\n",
    "plt.xlabel('Sentiment')\n",
    "plt.ylabel('Count')\n",
    "plt.show()\n"
   ]
  },
  {
   "cell_type": "code",
   "execution_count": 5,
   "id": "9bc8a0e2-038b-49a3-9f69-cdff6e3e9d8e",
   "metadata": {},
   "outputs": [],
   "source": [
    "## 4. Text Vectorization\n",
    "# Convert text to numerical vectors using TF-IDF\n",
    "vectorizer = TfidfVectorizer(max_features=5000, ngram_range=(1,2))\n",
    "X = vectorizer.fit_transform(data['text'])\n",
    "y = data['sentiment']\n"
   ]
  },
  {
   "cell_type": "code",
   "execution_count": null,
   "id": "959e5b91-57c6-4bae-8e1f-594b3e482f90",
   "metadata": {},
   "outputs": [],
   "source": [
    "## 5. Model Selection\n",
    "# Split the data into training and testing sets\n",
    "X_train, X_test, y_train, y_test = train_test_split(X, y, test_size=0.2, random_state=42)\n",
    "\n",
    "# Train a Naive Bayes classifier\n",
    "nb_model = MultinomialNB()\n",
    "nb_model.fit(X_train, y_train)\n",
    "\n",
    "# Train a Support Vector Machine (SVM) classifier with initial parameters\n",
    "svm_model = SVC(kernel='linear', probability=True)\n",
    "svm_model.fit(X_train, y_train)\n"
   ]
  },
  {
   "cell_type": "code",
   "execution_count": null,
   "id": "a1a3489f-9b6e-4ab8-bffc-cbd2547418ac",
   "metadata": {},
   "outputs": [],
   "source": [
    "## 6. Hyperparameter Tuning\n",
    "# Tune the hyperparameters of the SVM model using grid search\n",
    "param_grid = {'C': [0.1, 1, 10, 100], 'gamma': ['scale', 'auto'], 'kernel': ['linear', 'rbf']}\n",
    "grid_search = GridSearchCV(svm_model, param_grid, cv=5, n_jobs=-1, verbose=1)\n",
    "grid_search.fit(X_train, y_train)\n",
    "svm_model = grid_search.best_estimator_\n",
    "\n",
    "print('Best parameters for SVM:', grid_search.best_params_)\n"
   ]
  },
  {
   "cell_type": "code",
   "execution_count": null,
   "id": "1bbb6b56-46b4-4f32-902a-c951658d7cd1",
   "metadata": {},
   "outputs": [],
   "source": [
    "## 7. Cross-Validation\n",
    "# Perform cross-validation\n",
    "nb_scores = cross_val_score(nb_model, X, y, cv=5, scoring='accuracy')\n",
    "svm_scores = cross_val_score(svm_model, X, y, cv=5, scoring='accuracy')\n",
    "\n",
    "print('Naive Bayes 5-fold CV accuracy:', np.mean(nb_scores))\n",
    "print('SVM 5-fold CV accuracy:', np.mean(svm_scores))\n"
   ]
  },
  {
   "cell_type": "code",
   "execution_count": null,
   "id": "68575143-61f5-494f-b2fd-e1dfe3dfaf24",
   "metadata": {},
   "outputs": [],
   "source": [
    "## 8. Model Interpretability\n",
    "# Analyze feature importance for the SVM model (only if linear kernel)\n",
    "if svm_model.kernel == 'linear':\n",
    "    coef = svm_model.coef_.toarray().ravel()\n",
    "    top_features = np.argsort(coef)[-10:]\n",
    "    print('Top 10 features contributing to positive sentiment:')\n",
    "    print(vectorizer.get_feature_names_out()[top_features])\n",
    "else:\n",
    "    print('Feature importance analysis is only applicable for linear kernel SVM.')\n"
   ]
  },
  {
   "cell_type": "code",
   "execution_count": null,
   "id": "e81aa6c2-bf23-4922-a0cd-1b7499b1b381",
   "metadata": {},
   "outputs": [],
   "source": [
    "## 9. Evaluation Metrics\n",
    "# Function to print evaluation metrics\n",
    "def print_metrics(y_true, y_pred, model_name):\n",
    "    print(f'{model_name} Accuracy:', accuracy_score(y_true, y_pred))\n",
    "    print(f'{model_name} Precision:', precision_score(y_true, y_pred, average='weighted'))\n",
    "    print(f'{model_name} Recall:', recall_score(y_true, y_pred, average='weighted'))\n",
    "    print(f'{model_name} F1-score:', f1_score(y_true, y_pred, average='weighted'))\n",
    "\n",
    "# Evaluate the models on the test set\n",
    "nb_pred = nb_model.predict(X_test)\n",
    "svm_pred = svm_model.predict(X_test)\n",
    "\n",
    "print_metrics(y_test, nb_pred, 'Naive Bayes')\n",
    "print_metrics(y_test, svm_pred, 'SVM')\n",
    "\n",
    "# Plot the confusion matrix for the SVM model\n",
    "cm = confusion_matrix(y_test, svm_pred)\n",
    "plt.figure(figsize=(8, 6))\n",
    "sns.heatmap(cm, annot=True, fmt='d', cmap='Blues', xticklabels=svm_model.classes_, yticklabels=svm_model.classes_)\n",
    "plt.title('Confusion Matrix for SVM Model')\n",
    "plt.xlabel('Predicted Sentiment')\n",
    "plt.ylabel('True Sentiment')\n",
    "plt.show()\n"
   ]
  },
  {
   "cell_type": "code",
   "execution_count": null,
   "id": "c8997594-37db-41a5-8298-a9b62be92a6d",
   "metadata": {},
   "outputs": [],
   "source": []
  }
 ],
 "metadata": {
  "kernelspec": {
   "display_name": "Python 3 (ipykernel)",
   "language": "python",
   "name": "python3"
  },
  "language_info": {
   "codemirror_mode": {
    "name": "ipython",
    "version": 3
   },
   "file_extension": ".py",
   "mimetype": "text/x-python",
   "name": "python",
   "nbconvert_exporter": "python",
   "pygments_lexer": "ipython3",
   "version": "3.11.4"
  }
 },
 "nbformat": 4,
 "nbformat_minor": 5
}
